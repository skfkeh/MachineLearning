{
 "cells": [
  {
   "cell_type": "markdown",
   "metadata": {},
   "source": [
    "# XGBoost 모델 구축"
   ]
  },
  {
   "cell_type": "code",
   "execution_count": 99,
   "metadata": {},
   "outputs": [],
   "source": [
    "import pandas as pd\n",
    "import numpy as np\n",
    "\n",
    "import matplotlib.pyplot as plt\n",
    "import seaborn as sns\n",
    "\n",
    "import warnings\n",
    "warnings.filterwarnings('ignore')"
   ]
  },
  {
   "cell_type": "code",
   "execution_count": 100,
   "metadata": {},
   "outputs": [
    {
     "data": {
      "text/html": [
       "<div>\n",
       "<style scoped>\n",
       "    .dataframe tbody tr th:only-of-type {\n",
       "        vertical-align: middle;\n",
       "    }\n",
       "\n",
       "    .dataframe tbody tr th {\n",
       "        vertical-align: top;\n",
       "    }\n",
       "\n",
       "    .dataframe thead th {\n",
       "        text-align: right;\n",
       "    }\n",
       "</style>\n",
       "<table border=\"1\" class=\"dataframe\">\n",
       "  <thead>\n",
       "    <tr style=\"text-align: right;\">\n",
       "      <th></th>\n",
       "      <th>Total_Stops</th>\n",
       "      <th>Price</th>\n",
       "      <th>Duration_total</th>\n",
       "      <th>Dep_hour</th>\n",
       "      <th>weekday_name_Monday</th>\n",
       "      <th>weekday_name_Saturday</th>\n",
       "      <th>weekday_name_Sunday</th>\n",
       "      <th>weekday_name_Thursday</th>\n",
       "      <th>weekday_name_Tuesday</th>\n",
       "      <th>weekday_name_Wednesday</th>\n",
       "      <th>Add_col_1</th>\n",
       "      <th>Add_col_2</th>\n",
       "      <th>Add_col_3</th>\n",
       "      <th>Air_col_1</th>\n",
       "      <th>Air_col_2</th>\n",
       "      <th>Air_col_3</th>\n",
       "      <th>Air_col_4</th>\n",
       "      <th>Air_col_5</th>\n",
       "      <th>Air_col_6</th>\n",
       "    </tr>\n",
       "  </thead>\n",
       "  <tbody>\n",
       "    <tr>\n",
       "      <th>0</th>\n",
       "      <td>0</td>\n",
       "      <td>3897</td>\n",
       "      <td>170</td>\n",
       "      <td>22</td>\n",
       "      <td>0</td>\n",
       "      <td>0</td>\n",
       "      <td>1</td>\n",
       "      <td>0</td>\n",
       "      <td>0</td>\n",
       "      <td>0</td>\n",
       "      <td>0</td>\n",
       "      <td>0</td>\n",
       "      <td>0</td>\n",
       "      <td>1</td>\n",
       "      <td>0</td>\n",
       "      <td>0</td>\n",
       "      <td>0</td>\n",
       "      <td>0</td>\n",
       "      <td>0</td>\n",
       "    </tr>\n",
       "    <tr>\n",
       "      <th>1</th>\n",
       "      <td>2</td>\n",
       "      <td>7662</td>\n",
       "      <td>445</td>\n",
       "      <td>5</td>\n",
       "      <td>0</td>\n",
       "      <td>1</td>\n",
       "      <td>0</td>\n",
       "      <td>0</td>\n",
       "      <td>0</td>\n",
       "      <td>0</td>\n",
       "      <td>0</td>\n",
       "      <td>0</td>\n",
       "      <td>0</td>\n",
       "      <td>0</td>\n",
       "      <td>1</td>\n",
       "      <td>0</td>\n",
       "      <td>0</td>\n",
       "      <td>0</td>\n",
       "      <td>0</td>\n",
       "    </tr>\n",
       "    <tr>\n",
       "      <th>2</th>\n",
       "      <td>2</td>\n",
       "      <td>13882</td>\n",
       "      <td>1140</td>\n",
       "      <td>9</td>\n",
       "      <td>0</td>\n",
       "      <td>0</td>\n",
       "      <td>0</td>\n",
       "      <td>0</td>\n",
       "      <td>0</td>\n",
       "      <td>0</td>\n",
       "      <td>0</td>\n",
       "      <td>0</td>\n",
       "      <td>0</td>\n",
       "      <td>0</td>\n",
       "      <td>0</td>\n",
       "      <td>0</td>\n",
       "      <td>0</td>\n",
       "      <td>0</td>\n",
       "      <td>0</td>\n",
       "    </tr>\n",
       "    <tr>\n",
       "      <th>3</th>\n",
       "      <td>1</td>\n",
       "      <td>6218</td>\n",
       "      <td>325</td>\n",
       "      <td>18</td>\n",
       "      <td>0</td>\n",
       "      <td>0</td>\n",
       "      <td>0</td>\n",
       "      <td>1</td>\n",
       "      <td>0</td>\n",
       "      <td>0</td>\n",
       "      <td>0</td>\n",
       "      <td>0</td>\n",
       "      <td>0</td>\n",
       "      <td>1</td>\n",
       "      <td>0</td>\n",
       "      <td>0</td>\n",
       "      <td>0</td>\n",
       "      <td>0</td>\n",
       "      <td>0</td>\n",
       "    </tr>\n",
       "    <tr>\n",
       "      <th>4</th>\n",
       "      <td>1</td>\n",
       "      <td>13302</td>\n",
       "      <td>285</td>\n",
       "      <td>16</td>\n",
       "      <td>0</td>\n",
       "      <td>0</td>\n",
       "      <td>0</td>\n",
       "      <td>1</td>\n",
       "      <td>0</td>\n",
       "      <td>0</td>\n",
       "      <td>0</td>\n",
       "      <td>0</td>\n",
       "      <td>0</td>\n",
       "      <td>1</td>\n",
       "      <td>0</td>\n",
       "      <td>0</td>\n",
       "      <td>0</td>\n",
       "      <td>0</td>\n",
       "      <td>0</td>\n",
       "    </tr>\n",
       "  </tbody>\n",
       "</table>\n",
       "</div>"
      ],
      "text/plain": [
       "   Total_Stops  Price  Duration_total  Dep_hour  weekday_name_Monday  \\\n",
       "0            0   3897             170        22                    0   \n",
       "1            2   7662             445         5                    0   \n",
       "2            2  13882            1140         9                    0   \n",
       "3            1   6218             325        18                    0   \n",
       "4            1  13302             285        16                    0   \n",
       "\n",
       "   weekday_name_Saturday  weekday_name_Sunday  weekday_name_Thursday  \\\n",
       "0                      0                    1                      0   \n",
       "1                      1                    0                      0   \n",
       "2                      0                    0                      0   \n",
       "3                      0                    0                      1   \n",
       "4                      0                    0                      1   \n",
       "\n",
       "   weekday_name_Tuesday  weekday_name_Wednesday  Add_col_1  Add_col_2  \\\n",
       "0                     0                       0          0          0   \n",
       "1                     0                       0          0          0   \n",
       "2                     0                       0          0          0   \n",
       "3                     0                       0          0          0   \n",
       "4                     0                       0          0          0   \n",
       "\n",
       "   Add_col_3  Air_col_1  Air_col_2  Air_col_3  Air_col_4  Air_col_5  Air_col_6  \n",
       "0          0          1          0          0          0          0          0  \n",
       "1          0          0          1          0          0          0          0  \n",
       "2          0          0          0          0          0          0          0  \n",
       "3          0          1          0          0          0          0          0  \n",
       "4          0          1          0          0          0          0          0  "
      ]
     },
     "execution_count": 100,
     "metadata": {},
     "output_type": "execute_result"
    }
   ],
   "source": [
    "#@title 01.데이터 불러오기\n",
    "\n",
    "df = pd.read_csv('C:/Users/rx178/Desktop/ML_과제/data.csv')\n",
    "df = df.drop(['Unnamed: 0'], axis = 1)\n",
    "df.head()"
   ]
  },
  {
   "cell_type": "code",
   "execution_count": 101,
   "metadata": {},
   "outputs": [
    {
     "name": "stdout",
     "output_type": "stream",
     "text": [
      "(10682, 18) (10682,)\n"
     ]
    }
   ],
   "source": [
    "#@title 02. 훈련/시험 세트 분리\n",
    "\n",
    "x = df.drop(['Price'], axis = 1)\n",
    "y = df['Price']\n",
    "print(x.shape, y.shape)"
   ]
  },
  {
   "cell_type": "code",
   "execution_count": 102,
   "metadata": {},
   "outputs": [
    {
     "name": "stdout",
     "output_type": "stream",
     "text": [
      "x_train.shape : (8545, 18) / x_test.shape :(2137, 18)\n",
      "y_train.shape : (8545,) / y_test.shape :(2137,)\n"
     ]
    }
   ],
   "source": [
    "from sklearn.model_selection import train_test_split\n",
    "\n",
    "x_train, x_test, y_train, y_test = train_test_split(\n",
    "                                                    x,\n",
    "                                                    y,\n",
    "                                                    test_size = 0.2,\n",
    "                                                    random_state = 42\n",
    "                                                    )\n",
    "\n",
    "print(f'x_train.shape : {x_train.shape} / x_test.shape :{x_test.shape}')\n",
    "print(f'y_train.shape : {y_train.shape} / y_test.shape :{y_test.shape}')"
   ]
  },
  {
   "cell_type": "code",
   "execution_count": 103,
   "metadata": {},
   "outputs": [],
   "source": [
    "#@title 03.데이터 정규화\n",
    "\n",
    "from sklearn.preprocessing import MinMaxScaler\n",
    "mm_scaler = MinMaxScaler(feature_range = (0,1))\n",
    "x_train = mm_scaler.fit_transform(x_train)\n",
    "x_test = mm_scaler.fit_transform(x_test)"
   ]
  },
  {
   "cell_type": "code",
   "execution_count": 104,
   "metadata": {},
   "outputs": [
    {
     "name": "stdout",
     "output_type": "stream",
     "text": [
      "모델명 :  XGBRegressor(base_score=0.5, booster='gbtree', callbacks=None,\n",
      "             colsample_bylevel=1, colsample_bynode=1, colsample_bytree=1,\n",
      "             early_stopping_rounds=None, enable_categorical=False,\n",
      "             eval_metric=None, gamma=0, gpu_id=-1, grow_policy='depthwise',\n",
      "             importance_type=None, interaction_constraints='',\n",
      "             learning_rate=0.300000012, max_bin=256, max_cat_to_onehot=4,\n",
      "             max_delta_step=0, max_depth=5, max_leaves=0, min_child_weight=1,\n",
      "             missing=nan, monotone_constraints='()', n_estimators=500, n_jobs=0,\n",
      "             num_parallel_tree=1, predictor='auto', random_state=28,\n",
      "             reg_alpha=0, reg_lambda=1, ...)\n",
      "MAE :  2075.002050061509\n",
      "MSE :  10205678.757134855\n",
      "RMSE :  3194.632804742175\n",
      "R2_score(결정계수) :  0.5172114022671153\n"
     ]
    }
   ],
   "source": [
    "#@title 04.모델링\n",
    "\n",
    "# 모델링 (XGBoost - regressor 이용)\n",
    "import xgboost as xgb\n",
    "model_xgb = xgb.XGBRegressor(n_estimators = 500, max_depth = 5, random_state = 28)\n",
    "\n",
    "from sklearn.metrics import mean_absolute_error\n",
    "from sklearn.metrics import mean_squared_error\n",
    "from sklearn.metrics import r2_score\n",
    "\n",
    "models = [model_xgb]\n",
    "\n",
    "for model in models:\n",
    "    # 훈련 데이터 학습\n",
    "    model.fit(x_train, y_train)\n",
    "\n",
    "    # 테스트 데이터 예측\n",
    "    train_pred = model.predict(x_train)\n",
    "    test_pred = model.predict(x_test)\n",
    "\n",
    "    # 모델 이름 출력\n",
    "    print('모델명 : ', model)\n",
    "\n",
    "    print('MAE : ', mean_absolute_error(y_test, test_pred))\n",
    "    print('MSE : ', mean_squared_error(y_test, test_pred))\n",
    "    print('RMSE : ', mean_squared_error(y_test, test_pred, squared = False))\n",
    "    print('R2_score(결정계수) : ', r2_score(y_test, test_pred))"
   ]
  },
  {
   "cell_type": "code",
   "execution_count": 105,
   "metadata": {},
   "outputs": [
    {
     "data": {
      "image/png": "[encoded data removed]",
      "text/plain": [
       "<Figure size 432x288 with 1 Axes>"
      ]
     },
     "metadata": {
      "needs_background": "light"
     },
     "output_type": "display_data"
    }
   ],
   "source": [
    "plt.scatter(y_train,train_pred,marker='x')\n",
    "plt.scatter(y_test, test_pred,marker='o')\n",
    "plt.show()"
   ]
  },
  {
   "cell_type": "code",
   "execution_count": 106,
   "metadata": {},
   "outputs": [
    {
     "data": {
      "text/html": [
       "<div>\n",
       "<style scoped>\n",
       "    .dataframe tbody tr th:only-of-type {\n",
       "        vertical-align: middle;\n",
       "    }\n",
       "\n",
       "    .dataframe tbody tr th {\n",
       "        vertical-align: top;\n",
       "    }\n",
       "\n",
       "    .dataframe thead th {\n",
       "        text-align: right;\n",
       "    }\n",
       "</style>\n",
       "<table border=\"1\" class=\"dataframe\">\n",
       "  <thead>\n",
       "    <tr style=\"text-align: right;\">\n",
       "      <th></th>\n",
       "      <th>실제 값</th>\n",
       "      <th>예측 값</th>\n",
       "    </tr>\n",
       "  </thead>\n",
       "  <tbody>\n",
       "    <tr>\n",
       "      <th>6075</th>\n",
       "      <td>16655</td>\n",
       "      <td>18685.750000</td>\n",
       "    </tr>\n",
       "    <tr>\n",
       "      <th>3544</th>\n",
       "      <td>4959</td>\n",
       "      <td>13914.778320</td>\n",
       "    </tr>\n",
       "    <tr>\n",
       "      <th>9290</th>\n",
       "      <td>9187</td>\n",
       "      <td>8145.643066</td>\n",
       "    </tr>\n",
       "    <tr>\n",
       "      <th>5032</th>\n",
       "      <td>3858</td>\n",
       "      <td>4918.345215</td>\n",
       "    </tr>\n",
       "    <tr>\n",
       "      <th>2483</th>\n",
       "      <td>12898</td>\n",
       "      <td>5460.904785</td>\n",
       "    </tr>\n",
       "    <tr>\n",
       "      <th>...</th>\n",
       "      <td>...</td>\n",
       "      <td>...</td>\n",
       "    </tr>\n",
       "    <tr>\n",
       "      <th>9796</th>\n",
       "      <td>7408</td>\n",
       "      <td>8222.075195</td>\n",
       "    </tr>\n",
       "    <tr>\n",
       "      <th>9870</th>\n",
       "      <td>4622</td>\n",
       "      <td>4781.537598</td>\n",
       "    </tr>\n",
       "    <tr>\n",
       "      <th>10062</th>\n",
       "      <td>7452</td>\n",
       "      <td>7596.795898</td>\n",
       "    </tr>\n",
       "    <tr>\n",
       "      <th>8802</th>\n",
       "      <td>7060</td>\n",
       "      <td>9522.371094</td>\n",
       "    </tr>\n",
       "    <tr>\n",
       "      <th>8617</th>\n",
       "      <td>13731</td>\n",
       "      <td>13623.114258</td>\n",
       "    </tr>\n",
       "  </tbody>\n",
       "</table>\n",
       "<p>2137 rows × 2 columns</p>\n",
       "</div>"
      ],
      "text/plain": [
       "        실제 값          예측 값\n",
       "6075   16655  18685.750000\n",
       "3544    4959  13914.778320\n",
       "9290    9187   8145.643066\n",
       "5032    3858   4918.345215\n",
       "2483   12898   5460.904785\n",
       "...      ...           ...\n",
       "9796    7408   8222.075195\n",
       "9870    4622   4781.537598\n",
       "10062   7452   7596.795898\n",
       "8802    7060   9522.371094\n",
       "8617   13731  13623.114258\n",
       "\n",
       "[2137 rows x 2 columns]"
      ]
     },
     "execution_count": 106,
     "metadata": {},
     "output_type": "execute_result"
    }
   ],
   "source": [
    "#@title 모델평가\n",
    "comparison = pd.DataFrame({'실제 값' : y_test, '예측 값' : test_pred})\n",
    "comparison"
   ]
  },
  {
   "cell_type": "code",
   "execution_count": 107,
   "metadata": {},
   "outputs": [
    {
     "data": {
      "image/png": "[encoded data removed]",
      "text/plain": [
       "<Figure size 504x504 with 1 Axes>"
      ]
     },
     "metadata": {
      "needs_background": "light"
     },
     "output_type": "display_data"
    }
   ],
   "source": [
    "plt.rcParams['font.family'] = 'Malgun Gothic'\n",
    "\n",
    "plt.figure(figsize = (7,7))\n",
    "sns.scatterplot(x = '실제 값', y = '예측 값', data = comparison)\n",
    "plt.title('실제-예측 값 간 산점도')\n",
    "plt.xlabel('실제 값')\n",
    "plt.ylabel('예측 값')\n",
    "plt.grid(True)\n",
    "plt.show()"
   ]
  },
  {
   "cell_type": "code",
   "execution_count": 38,
   "metadata": {},
   "outputs": [],
   "source": [
    "#@title 05.K-Fold 검증\n",
    "\n",
    "from sklearn.model_selection import KFold\n",
    "# 5번 폴딩, 셔플 ON, 난수 28\n",
    "kf = KFold(n_splits = 7, shuffle = True, random_state = 28)"
   ]
  },
  {
   "cell_type": "code",
   "execution_count": 39,
   "metadata": {},
   "outputs": [],
   "source": [
    "train_mae_total = list()\n",
    "test_mae_total = list()\n",
    "\n",
    "train_mse_total = list()\n",
    "test_mse_total = list()\n",
    "\n",
    "train_rmse_total = list()\n",
    "test_rmse_total = list()\n",
    "\n",
    "for i, j in kf.split(x):\n",
    "    x_train, x_test = x.loc[i], x.loc[j]\n",
    "    y_train, y_test = y[i], y[j]\n",
    "\n",
    "    model_xgb = xgb.XGBRegressor(n_estimators = 500, max_depth = 5, random_state = 28)\n",
    "    model.fit(x_train, y_train)\n",
    "    train_pred = model.predict(x_train)\n",
    "    test_pred = model.predict(x_test)\n",
    "\n",
    "    train_mae = mean_absolute_error(y_train, train_pred)\n",
    "    train_mae_total.append(train_mae)\n",
    "    test_mae = mean_absolute_error(y_test, test_pred)\n",
    "    test_mae_total.append(test_mae)\n",
    "\n",
    "    train_mse = mean_squared_error(y_train, train_pred)\n",
    "    train_mse_total.append(train_mse)\n",
    "    test_mse = mean_squared_error(y_test, test_pred)\n",
    "    test_mse_total.append(test_mse)\n",
    "\n",
    "    train_rmse = mean_squared_error(y_train, train_pred, squared = False)\n",
    "    train_rmse_total.append(train_rmse)\n",
    "    test_rmse = mean_squared_error(y_test, test_pred, squared = False)\n",
    "    test_rmse_total.append(test_rmse)\n"
   ]
  },
  {
   "cell_type": "code",
   "execution_count": 40,
   "metadata": {},
   "outputs": [
    {
     "name": "stdout",
     "output_type": "stream",
     "text": [
      "train_mae :  855.3038719132962\n",
      "test_mae :  1417.8022609725692\n",
      "mae_gap :  562.498389059273\n",
      "--------------------------------------------------\n",
      "train_mse :  2060660.9455081713\n",
      "test_mse :  7080985.255165088\n",
      "mse_gap :  5020324.309656916\n",
      "--------------------------------------------------\n",
      "train_rmse :  1435.2909505368557\n",
      "test_rmse :  2654.5338785517283\n",
      "rmse_gap :  1219.2429280148726\n"
     ]
    }
   ],
   "source": [
    "print('train_mae : ', np.mean(train_mae_total))\n",
    "print('test_mae : ', np.mean(test_mae_total))\n",
    "print('mae_gap : ',abs(np.mean(test_mae_total)-np.mean(train_mae_total)))\n",
    "\n",
    "print('-'*50)\n",
    "\n",
    "print('train_mse : ', np.mean(train_mse_total))\n",
    "print('test_mse : ', np.mean(test_mse_total))\n",
    "print('mse_gap : ',abs(np.mean(test_mse_total)-np.mean(train_mse_total)))\n",
    "\n",
    "print('-'*50)\n",
    "\n",
    "print('train_rmse : ', np.mean(train_rmse_total))\n",
    "print('test_rmse : ', np.mean(test_rmse_total))\n",
    "print('rmse_gap : ',abs(np.mean(test_rmse_total)-np.mean(train_rmse_total)))"
   ]
  },
  {
   "cell_type": "code",
   "execution_count": 41,
   "metadata": {},
   "outputs": [],
   "source": [
    "# k = 5\n",
    "# train_mae :  837.5228041412317\n",
    "# test_mae :  1417.0309181859225\n",
    "# mae_gap :  579.5081140446907\n",
    "# --------------------------------------------------\n",
    "# train_mse :  1955582.0417502008\n",
    "# test_mse :  6976561.489470768\n",
    "# mse_gap :  5020979.447720567\n",
    "# --------------------------------------------------\n",
    "# train_rmse :  1397.9969928966284\n",
    "# test_rmse :  2636.257310255637\n",
    "# rmse_gap :  1238.2603173590087"
   ]
  },
  {
   "cell_type": "code",
   "execution_count": 42,
   "metadata": {},
   "outputs": [],
   "source": [
    "# k = 7\n",
    "# train_mae :  855.3038719132962\n",
    "# test_mae :  1417.8022609725692\n",
    "# mae_gap :  562.498389059273\n",
    "# --------------------------------------------------\n",
    "# train_mse :  2060660.9455081713\n",
    "# test_mse :  7080985.255165088\n",
    "# mse_gap :  5020324.309656916\n",
    "# --------------------------------------------------\n",
    "# train_rmse :  1435.2909505368557\n",
    "# test_rmse :  2654.5338785517283\n",
    "# rmse_gap :  1219.2429280148726\n"
   ]
  },
  {
   "cell_type": "code",
   "execution_count": 43,
   "metadata": {},
   "outputs": [],
   "source": [
    "from sklearn.model_selection import GridSearchCV\n",
    "\n",
    "max_depth = [3, 5, 10]\n",
    "learning_rate = [0.01, 0.05, 0.1]\n",
    "\n",
    "parameter = {\n",
    "             'learning_rate': [0.01, 0.1, 0.3], # 경사하강법 : '매개변수' -> 최소오차 -> 보폭 크기\n",
    "             'max_depth': [5, 7, 10], # 트리의 깊이 (오버피팅)\n",
    "             'subsample': [0.5, 0.7, 1], # 추출할 데이터 비율\n",
    "             'n_estimators': [300, 500, 1000] # 트리 개수\n",
    "            }"
   ]
  },
  {
   "cell_type": "code",
   "execution_count": 65,
   "metadata": {},
   "outputs": [],
   "source": [
    "# xgb_grid.fit(x_train, y_train)\n",
    "\n",
    "# print('best_score',xgb_grid.best_score_)\n",
    "# print('best_params',xgb_grid.best_params_)\n",
    "# print('best_estimator',xgb_grid.best_estimator_)\n",
    "# print('best_index',xgb_grid.best_index_)\n",
    "\n",
    "# Fitting 5 folds for each of 81 candidates, totalling 405 fits\n",
    "# best_score nan\n",
    "# best_params {'learning_rate': 0.01, 'max_depth': 5, 'n_estimators': 300, 'subsample': 0.5}\n",
    "# best_estimator XGBRFRegressor(base_score=0.5, booster='gbtree', callbacks=None,\n",
    "#                colsample_bylevel=1, colsample_bytree=1,\n",
    "#                early_stopping_rounds=None, enable_categorical=False,\n",
    "#                eval_metric=None, gamma=0, gpu_id=-1, grow_policy='depthwise',\n",
    "#                importance_type=None, interaction_constraints='',\n",
    "#                learning_rate=0.01, max_bin=256, max_cat_to_onehot=4,\n",
    "#                max_delta_step=0, max_depth=5, max_leaves=0, min_child_weight=1,\n",
    "#                missing=nan, monotone_constraints='()', n_estimators=300,\n",
    "#                n_jobs=0, num_parallel_tree=300, objective='reg:squarederror',\n",
    "#                predictor='auto', random_state=0, reg_alpha=0,\n",
    "#                sampling_method='uniform', ...)\n",
    "# best_index 0"
   ]
  },
  {
   "cell_type": "code",
   "execution_count": 61,
   "metadata": {},
   "outputs": [
    {
     "data": {
      "text/plain": [
       "['xgboost_reg.pkl']"
      ]
     },
     "execution_count": 61,
     "metadata": {},
     "output_type": "execute_result"
    }
   ],
   "source": [
    "#@title 해당모델 피클파일로 내보내기\n",
    "model_xgb = xgb.XGBRegressor(n_estimators = 500, max_depth = 5, random_state = 28)\n",
    "\n",
    "import joblib\n",
    "joblib.dump(model_xgb, 'xgboost_reg.pkl')"
   ]
  },
  {
   "cell_type": "code",
   "execution_count": 62,
   "metadata": {},
   "outputs": [
    {
     "data": {
      "text/html": [
       "<style>#sk-container-id-4 {color: black;background-color: white;}#sk-container-id-4 pre{padding: 0;}#sk-container-id-4 div.sk-toggleable {background-color: white;}#sk-container-id-4 label.sk-toggleable__label {cursor: pointer;display: block;width: 100%;margin-bottom: 0;padding: 0.3em;box-sizing: border-box;text-align: center;}#sk-container-id-4 label.sk-toggleable__label-arrow:before {content: \"▸\";float: left;margin-right: 0.25em;color: #696969;}#sk-container-id-4 label.sk-toggleable__label-arrow:hover:before {color: black;}#sk-container-id-4 div.sk-estimator:hover label.sk-toggleable__label-arrow:before {color: black;}#sk-container-id-4 div.sk-toggleable__content {max-height: 0;max-width: 0;overflow: hidden;text-align: left;background-color: #f0f8ff;}#sk-container-id-4 div.sk-toggleable__content pre {margin: 0.2em;color: black;border-radius: 0.25em;background-color: #f0f8ff;}#sk-container-id-4 input.sk-toggleable__control:checked~div.sk-toggleable__content {max-height: 200px;max-width: 100%;overflow: auto;}#sk-container-id-4 input.sk-toggleable__control:checked~label.sk-toggleable__label-arrow:before {content: \"▾\";}#sk-container-id-4 div.sk-estimator input.sk-toggleable__control:checked~label.sk-toggleable__label {background-color: #d4ebff;}#sk-container-id-4 div.sk-label input.sk-toggleable__control:checked~label.sk-toggleable__label {background-color: #d4ebff;}#sk-container-id-4 input.sk-hidden--visually {border: 0;clip: rect(1px 1px 1px 1px);clip: rect(1px, 1px, 1px, 1px);height: 1px;margin: -1px;overflow: hidden;padding: 0;position: absolute;width: 1px;}#sk-container-id-4 div.sk-estimator {font-family: monospace;background-color: #f0f8ff;border: 1px dotted black;border-radius: 0.25em;box-sizing: border-box;margin-bottom: 0.5em;}#sk-container-id-4 div.sk-estimator:hover {background-color: #d4ebff;}#sk-container-id-4 div.sk-parallel-item::after {content: \"\";width: 100%;border-bottom: 1px solid gray;flex-grow: 1;}#sk-container-id-4 div.sk-label:hover label.sk-toggleable__label {background-color: #d4ebff;}#sk-container-id-4 div.sk-serial::before {content: \"\";position: absolute;border-left: 1px solid gray;box-sizing: border-box;top: 0;bottom: 0;left: 50%;z-index: 0;}#sk-container-id-4 div.sk-serial {display: flex;flex-direction: column;align-items: center;background-color: white;padding-right: 0.2em;padding-left: 0.2em;position: relative;}#sk-container-id-4 div.sk-item {position: relative;z-index: 1;}#sk-container-id-4 div.sk-parallel {display: flex;align-items: stretch;justify-content: center;background-color: white;position: relative;}#sk-container-id-4 div.sk-item::before, #sk-container-id-4 div.sk-parallel-item::before {content: \"\";position: absolute;border-left: 1px solid gray;box-sizing: border-box;top: 0;bottom: 0;left: 50%;z-index: -1;}#sk-container-id-4 div.sk-parallel-item {display: flex;flex-direction: column;z-index: 1;position: relative;background-color: white;}#sk-container-id-4 div.sk-parallel-item:first-child::after {align-self: flex-end;width: 50%;}#sk-container-id-4 div.sk-parallel-item:last-child::after {align-self: flex-start;width: 50%;}#sk-container-id-4 div.sk-parallel-item:only-child::after {width: 0;}#sk-container-id-4 div.sk-dashed-wrapped {border: 1px dashed gray;margin: 0 0.4em 0.5em 0.4em;box-sizing: border-box;padding-bottom: 0.4em;background-color: white;}#sk-container-id-4 div.sk-label label {font-family: monospace;font-weight: bold;display: inline-block;line-height: 1.2em;}#sk-container-id-4 div.sk-label-container {text-align: center;}#sk-container-id-4 div.sk-container {/* jupyter's `normalize.less` sets `[hidden] { display: none; }` but bootstrap.min.css set `[hidden] { display: none !important; }` so we also need the `!important` here to be able to override the default hidden behavior on the sphinx rendered scikit-learn.org. See: https://github.com/scikit-learn/scikit-learn/issues/21755 */display: inline-block !important;position: relative;}#sk-container-id-4 div.sk-text-repr-fallback {display: none;}</style><div id=\"sk-container-id-4\" class=\"sk-top-container\"><div class=\"sk-text-repr-fallback\"><pre>XGBRegressor(base_score=None, booster=None, callbacks=None,\n",
       "             colsample_bylevel=None, colsample_bynode=None,\n",
       "             colsample_bytree=None, early_stopping_rounds=None,\n",
       "             enable_categorical=False, eval_metric=None, gamma=None,\n",
       "             gpu_id=None, grow_policy=None, importance_type=None,\n",
       "             interaction_constraints=None, learning_rate=None, max_bin=None,\n",
       "             max_cat_to_onehot=None, max_delta_step=None, max_depth=5,\n",
       "             max_leaves=None, min_child_weight=None, missing=nan,\n",
       "             monotone_constraints=None, n_estimators=500, n_jobs=None,\n",
       "             num_parallel_tree=None, predictor=None, random_state=28,\n",
       "             reg_alpha=None, reg_lambda=None, ...)</pre><b>In a Jupyter environment, please rerun this cell to show the HTML representation or trust the notebook. <br />On GitHub, the HTML representation is unable to render, please try loading this page with nbviewer.org.</b></div><div class=\"sk-container\" hidden><div class=\"sk-item\"><div class=\"sk-estimator sk-toggleable\"><input class=\"sk-toggleable__control sk-hidden--visually\" id=\"sk-estimator-id-4\" type=\"checkbox\" checked><label for=\"sk-estimator-id-4\" class=\"sk-toggleable__label sk-toggleable__label-arrow\">XGBRegressor</label><div class=\"sk-toggleable__content\"><pre>XGBRegressor(base_score=None, booster=None, callbacks=None,\n",
       "             colsample_bylevel=None, colsample_bynode=None,\n",
       "             colsample_bytree=None, early_stopping_rounds=None,\n",
       "             enable_categorical=False, eval_metric=None, gamma=None,\n",
       "             gpu_id=None, grow_policy=None, importance_type=None,\n",
       "             interaction_constraints=None, learning_rate=None, max_bin=None,\n",
       "             max_cat_to_onehot=None, max_delta_step=None, max_depth=5,\n",
       "             max_leaves=None, min_child_weight=None, missing=nan,\n",
       "             monotone_constraints=None, n_estimators=500, n_jobs=None,\n",
       "             num_parallel_tree=None, predictor=None, random_state=28,\n",
       "             reg_alpha=None, reg_lambda=None, ...)</pre></div></div></div></div></div>"
      ],
      "text/plain": [
       "XGBRegressor(base_score=None, booster=None, callbacks=None,\n",
       "             colsample_bylevel=None, colsample_bynode=None,\n",
       "             colsample_bytree=None, early_stopping_rounds=None,\n",
       "             enable_categorical=False, eval_metric=None, gamma=None,\n",
       "             gpu_id=None, grow_policy=None, importance_type=None,\n",
       "             interaction_constraints=None, learning_rate=None, max_bin=None,\n",
       "             max_cat_to_onehot=None, max_delta_step=None, max_depth=5,\n",
       "             max_leaves=None, min_child_weight=None, missing=nan,\n",
       "             monotone_constraints=None, n_estimators=500, n_jobs=None,\n",
       "             num_parallel_tree=None, predictor=None, random_state=28,\n",
       "             reg_alpha=None, reg_lambda=None, ...)"
      ]
     },
     "execution_count": 62,
     "metadata": {},
     "output_type": "execute_result"
    }
   ],
   "source": [
    "xgb_m = joblib.load('xgboost_reg.pkl')\n",
    "xgb_m"
   ]
  },
  {
   "cell_type": "code",
   "execution_count": null,
   "metadata": {},
   "outputs": [],
   "source": []
  }
 ],
 "metadata": {
  "kernelspec": {
   "display_name": "Python 3.9.12 ('base')",
   "language": "python",
   "name": "python3"
  },
  "language_info": {
   "codemirror_mode": {
    "name": "ipython",
    "version": 3
   },
   "file_extension": ".py",
   "mimetype": "text/x-python",
   "name": "python",
   "nbconvert_exporter": "python",
   "pygments_lexer": "ipython3",
   "version": "3.9.12"
  },
  "orig_nbformat": 4,
  "vscode": {
   "interpreter": {
    "hash": "b34b863c255992f18be4e3271ad309d6f472a641574d2a36abb232a0d7577314"
   }
  }
 },
 "nbformat": 4,
 "nbformat_minor": 2
}
